{
 "cells": [
  {
   "cell_type": "markdown",
   "id": "63b375d7",
   "metadata": {},
   "source": [
    "## Pull FRED data"
   ]
  },
  {
   "cell_type": "code",
   "execution_count": null,
   "id": "1e691abc",
   "metadata": {},
   "outputs": [],
   "source": [
    "import fredapi as fred\n",
    "import pandas as pd\n",
    "import os\n",
    "\n",
    "cli=fred.Fred(api_key=os.getenv(\"FRED_API_KEY\", ''))\n",
    "\n",
    "# Fetch US Unemployment Rate (series ID: UNRATE)\n",
    "unemployment = cli.get_series('UNRATE', observation_start='1980-01-01', observation_end='2019-12-31')\n",
    "\n",
    "unemployment = unemployment.to_frame(name='unemployment_rate')\n"
   ]
  }
 ],
 "metadata": {
  "kernelspec": {
   "display_name": ".venv",
   "language": "python",
   "name": "python3"
  },
  "language_info": {
   "name": "python",
   "version": "3.12.10"
  }
 },
 "nbformat": 4,
 "nbformat_minor": 5
}
