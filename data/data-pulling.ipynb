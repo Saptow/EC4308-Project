{
 "cells": [
  {
   "cell_type": "markdown",
   "id": "63b375d7",
   "metadata": {},
   "source": [
    "## Pull FRED data"
   ]
  },
  {
   "cell_type": "code",
   "execution_count": null,
   "id": "1e691abc",
   "metadata": {},
   "outputs": [],
   "source": [
    "import fredapi as fred\n",
    "import pandas as pd\n",
    "import os\n",
    "\n",
    "cli=fred.Fred(api_key=os.getenv(\"FRED_API_KEY\", ''))\n",
    "\n",
    "# Fetch US Unemployment Rate (series ID: UNRATE)\n",
    "unemployment = cli.get_series('UNRATE', observation_start='1980-01-01', observation_end='2019-12-31')\n",
    "\n",
    "unemployment = unemployment.to_frame(name='unemployment_rate')\n",
    "unemployment.reset_index(inplace=True)\n"
   ]
  },
  {
   "cell_type": "code",
   "execution_count": 5,
   "id": "38c28d7e",
   "metadata": {},
   "outputs": [],
   "source": [
    "unemployment.rename(columns={'index': 'date'}, inplace=True)"
   ]
  },
  {
   "cell_type": "code",
   "execution_count": 6,
   "id": "6ee4f819",
   "metadata": {},
   "outputs": [],
   "source": [
    "unemployment.to_csv('unemployment_rate_daily.csv', index=False)"
   ]
  },
  {
   "cell_type": "code",
   "execution_count": null,
   "id": "0819adb1",
   "metadata": {},
   "outputs": [],
   "source": [
    "# Get monthly data\n",
    "unemployment_monthly = cli.get_series('UNRATE', observation_start='1980-01-01', observation_end='2019-12-31', frequency='m')\n",
    "unemployment_monthly = unemployment_monthly.to_frame(name='unemployment_rate')\n",
    "unemployment_monthly.reset_index(inplace=True)\n",
    "unemployment_monthly.rename(columns={'index': 'month'}, inplace=True)\n",
    "\n",
    "unemployment_monthly.to_csv('unemployment_rate_monthly.csv', index=False)"
   ]
  }
 ],
 "metadata": {
  "kernelspec": {
   "display_name": ".venv",
   "language": "python",
   "name": "python3"
  },
  "language_info": {
   "codemirror_mode": {
    "name": "ipython",
    "version": 3
   },
   "file_extension": ".py",
   "mimetype": "text/x-python",
   "name": "python",
   "nbconvert_exporter": "python",
   "pygments_lexer": "ipython3",
   "version": "3.12.10"
  }
 },
 "nbformat": 4,
 "nbformat_minor": 5
}
